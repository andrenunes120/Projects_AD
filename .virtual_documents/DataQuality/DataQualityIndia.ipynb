import pandas as pd
import matplotlib.pyplot as plt
import seaborn as sns





df = pd.read_csv("data.csv")





# Display the first few rows
print("\nFirst few rows of the dataset:")
print(df.head())

# Check dataset structure and info
print("\nDataset information:")
print(df.info())

# Generate summary statistics
print("\nSummary statistics:")
print(df.describe())

# Identify columns with missing values
missing_values = df.isnull().sum()
print("\nMissing values in each column:")
print(missing_values)






# Calculate percentage of missing values
missing_percentage = (df.isnull().sum() / len(df)) * 100
print("\nPercentage of missing values in each column:")
print(missing_percentage)





# Get numerical and categorical columns
numerical_columns = df.select_dtypes(include=['float64', 'int64']).columns
categorical_columns = df.select_dtypes(include=['object']).columns

# Impute all numerical columns at once
for col in numerical_columns:
    df[col].fillna(df[col].mean(), inplace=True)

# Impute all categorical columns at once
for col in categorical_columns:
    df[col].fillna(df[col].mode()[0], inplace=True)

# Verify the results
print("\nRemaining missing values after imputation:")
print(df.isnull().sum())





# Function to detect outliers using IQR method
def detect_outliers(df, column):
    Q1 = df[column].quantile(0.25)
    Q3 = df[column].quantile(0.75)
    IQR = Q3 - Q1
    lower_bound = Q1 - 1.5 * IQR
    upper_bound = Q3 + 1.5 * IQR
    outliers = df[(df[column] < lower_bound) | (df[column] > upper_bound)]
    return outliers

# Detect outliers for numerical columns
for col in numerical_columns:
    if col not in ['Date']:  # Skip non-numeric columns
        outliers = detect_outliers(df, col)
        print(f"\nOutliers in {col}:")
        print(f"Number of outliers: {len(outliers)}")

# Create box plots for visualization
plt.figure(figsize=(20, 15))
for i, col in enumerate(numerical_columns, 1):
    if col not in ['Date']:  # Skip non-numeric columns
        plt.subplot(7, 4, i)  # Changed from 4,4 to 5,4 to accommodate more plots
        sns.boxplot(x=df[col])
        plt.title(f'Box Plot for {col}')
        plt.xticks(rotation=45)

plt.tight_layout()
plt.show()





# Function to handle outliers using capping
def cap_outliers(df, column):
    Q1 = df[column].quantile(0.25)
    Q3 = df[column].quantile(0.75)
    IQR = Q3 - Q1
    lower_bound = Q1 - 1.5 * IQR
    upper_bound = Q3 + 1.5 * IQR
    df[column] = df[column].clip(lower=lower_bound, upper=upper_bound)
    return df

# Apply capping to numerical columns
for col in numerical_columns:
    if col not in ['Date']:  # Skip non-numeric columns
        df = cap_outliers(df, col)

# Create box plots to visualize the results after capping
plt.figure(figsize=(20, 20))
for i, col in enumerate(numerical_columns, 1):
    if col not in ['Date']:
        plt.subplot(7, 4, i)
        sns.boxplot(x=df[col])
        plt.title(f'Box Plot for {col} (After Capping)')
        plt.xticks(rotation=45)

plt.tight_layout()
plt.show()
