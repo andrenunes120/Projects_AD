import pandas as pd
import numpy as np
import matplotlib.pyplot as plt
import seaborn as sns





df = pd.read_csv("data_date.csv")





# Display the first few rows
print("\nFirst few rows of the dataset:")
print(df.head())

# Check dataset structure and info
print("\nDataset information:")
print(df.info())

# Generate summary statistics
print("\nSummary statistics:")
print(df.describe())

# Identify columns with missing values
missing_values = df.isnull().sum()
print("\nMissing values in each column:")
print(missing_values)






# Calculate percentage of missing values
missing_percentage = (df.isnull().sum() / len(df)) * 100
print("\nPercentage of missing values in each column:")
print(missing_percentage)








# Function to detect outliers using IQR method
# Calculate Q1, Q3, and IQR for AQI Value
Q1 = df['AQI Value'].quantile(0.25)
Q3 = df['AQI Value'].quantile(0.75)
IQR = Q3 - Q1

# Calculate bounds
lower_bound = Q1 - 1.5 * IQR
upper_bound = Q3 + 1.5 * IQR

# Find outliers
outliers = df[(df['AQI Value'] < lower_bound) | (df['AQI Value'] > upper_bound)]
print("Number of outliers:", len(outliers))
print("\nSample of outliers:")
print(outliers[['Date', 'Country', 'AQI Value']].head())

# Create box plot
plt.figure(figsize=(8, 5))
sns.boxplot(x=df['AQI Value'])
plt.title("Box Plot for Outlier Detection")
plt.show()






# Remove outliers
df_filtered = df[(df['AQI Value'] >= lower_bound) & (df['AQI Value'] <= upper_bound)]

# Save the filtered dataset
df_filtered.to_csv('data_transformed.csv', index=False)

print("Original dataset size:", len(df))
print("Dataset size after removing outliers:", len(df_filtered))

# Read the transformed data
df_transformed = pd.read_csv('data_transformed.csv')

# Create box plot
plt.figure(figsize=(8, 5))
sns.boxplot(x=df_transformed['AQI Value'])
plt.title("Box Plot of Transformed AQI Values")
plt.xlabel("AQI Value")
plt.show()

# Print summary statistics
print("\nSummary Statistics of Transformed Data:")
print(df_transformed['AQI Value'].describe())

