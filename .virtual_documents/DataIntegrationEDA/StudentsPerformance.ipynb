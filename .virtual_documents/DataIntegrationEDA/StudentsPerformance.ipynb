import pandas as pd
import matplotlib.pyplot as plt





#load csv
df = pd.read_csv("StudentsPerformance.csv")
print(df)






# Display the first few rows
print("First few rows of the dataset:")
print(df.head())

# Check dataset structure, column types, and missing values
print("\nDataset Information:")
print(df.info())

# Generate summary statistics
print("\nSummary Statistics:")
print(df.describe())





# Perform Data Cleaning

# Identify missing values and handle them
print("Missing values before cleaning:")
print(df.isnull().sum())

# Drop rows with missing values
df = df.dropna()

# Alternatively, fill missing values with a specific value (e.g., mean)
# df.fillna(df.mean(), inplace=True)

print("\nMissing values after cleaning:")
print(df.isnull().sum())

# Check for duplicate records and remove if necessary
print("\nNumber of duplicate records before cleaning:")
print(df.duplicated().sum())

df = df.drop_duplicates()

print("\nNumber of duplicate records after cleaning:")
print(df.duplicated().sum())

# Standardize column names and data formats
df.columns = [col.strip().lower().replace(' ', '_') for col in df.columns]

# Example of standardizing data formats (e.g., converting date columns to datetime)
# df['date_column'] = pd.to_datetime(df['date_column'])

print("\nColumn names after standardization:")
print(df.columns)





# Calculate summary statistics for key numerical variables
print("Summary Statistics:")
print(df.describe())

# Distribution of categorical variables
print("\nDistribution of Gender:")
print(df['gender'].value_counts())

print("\nDistribution of Race/Ethnicity:")
print(df['race/ethnicity'].value_counts())

# Relationships between different features using correlation analysis
print("\nCorrelation Matrix:")
print(df[['math_score', 'reading_score', 'writing_score']].corr())

# Use Pandas groupby() and aggregation functions to summarize the dataset
print("\nAverage Scores by Gender:")
print(df.groupby('gender')[['math_score', 'reading_score', 'writing_score']].mean())





# 1. Histogram of a key numerical variable
plt.figure(figsize=(8, 5))
plt.hist(df['math_score'], bins=20, color='skyblue', edgecolor='black')
plt.title('Histogram of Math Scores')
plt.xlabel('Math Score')
plt.ylabel('Frequency')
plt.show()


# 2. Bar chart of a categorical variable's aggregated value
avg_math_by_gender = df.groupby('gender')['math_score'].mean()
plt.figure(figsize=(6, 4))
avg_math_by_gender.plot(kind='bar', color=['orange', 'green'])
plt.title('Average Math Score by Gender')
plt.xlabel('Gender')
plt.ylabel('Average Math Score')
plt.show()


# 3. Scatter plot of two numerical variables
plt.figure(figsize=(8, 5))
plt.scatter(df['reading_score'], df['writing_score'], alpha=0.6)
plt.title('Reading Score vs. Writing Score')
plt.xlabel('Reading Score')
plt.ylabel('Writing Score')
plt.show()


# Dataset Characteristics
print("Dataset Characteristics:")
print(f"Number of records: {len(df)}")
print(f"Number of columns: {len(df.columns)}")
print("\nColumns in the dataset:", list(df.columns))

# Key Observations
print("\nKey Observations:")
print("\n1. Score Statistics:")
print(df[['math_score', 'reading_score', 'writing_score']].describe())

print("\n2. Gender Distribution:")
print(df['gender'].value_counts(normalize=True).round(3) * 100, "% of students")

print("\n3. Parental Education Distribution:")
print(df['parental_level_of_education'].value_counts())

print("\n4. Test Preparation Impact:")
print("\nAverage scores by test preparation:")
print(df.groupby('test_preparation_course')[['math_score', 'reading_score', 'writing_score']].mean())

# Identify patterns and correlations
print("\n5. Score Correlations:")
correlation_matrix = df[['math_score', 'reading_score', 'writing_score']].corr()
print(correlation_matrix)

# Identify outliers
print("\n6. Potential Outliers (scores below 20 or above 95):")
outliers = df[
    (df['math_score'] < 20) | (df['math_score'] > 95) |
    (df['reading_score'] < 20) | (df['reading_score'] > 95) |
    (df['writing_score'] < 20) | (df['writing_score'] > 95)
]
print(f"Number of outlier records: {len(outliers)}")
