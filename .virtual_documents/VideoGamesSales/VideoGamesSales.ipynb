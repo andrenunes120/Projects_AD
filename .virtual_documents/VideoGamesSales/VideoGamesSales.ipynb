import pandas as pd
import matplotlib.pyplot as plt
import seaborn as sns
import numpy as np


df = pd.read_csv("video_games_sales.csv")


# Display the first few rows of the dataset
print("First 5 rows of the dataset:")
print(df.head())

# Get information about the dataset
print("\nDataset Information:")
print(df.info())

# Generate summary statistics
print("\nSummary Statistics:")
print(df.describe())


# Identify key variables to visualize (example)
key_variables = ['Global_Sales', 'NA_Sales', 'EU_Sales']
print("\nKey Variables to Visualize:")
print(key_variables)


# Categorical Variable Visualization: Platform
plt.figure(figsize=(10, 6))
sns.countplot(x='Platform', data=df)
plt.title('Frequency of Video Game Platforms')
plt.xticks(rotation=45)
plt.show()

# Optional: Pie chart for Platforms
platform_counts = df['Platform'].value_counts()
plt.figure(figsize=(8, 8))
plt.pie(platform_counts, labels=platform_counts.index, autopct='%1.1f%%')
plt.title('Distribution of Video Game Platforms')
plt.show()

# Numerical Variable Visualization: Global Sales
plt.figure(figsize=(10, 6))
sns.histplot(df['Global_Sales'], bins=30, kde=True)
plt.title('Distribution of Global Sales')
plt.show()

plt.figure(figsize=(10, 6))
sns.boxplot(x=df['Global_Sales'])
plt.title('Boxplot of Global Sales')
plt.show()

plt.figure(figsize=(10, 6))
sns.violinplot(x=df['Global_Sales'])
plt.title('Violin Plot of Global Sales')
plt.show()



